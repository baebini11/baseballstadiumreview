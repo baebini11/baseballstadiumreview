{
  "nbformat": 4,
  "nbformat_minor": 0,
  "metadata": {
    "colab": {
      "provenance": []
    },
    "kernelspec": {
      "name": "python3",
      "display_name": "Python 3"
    },
    "language_info": {
      "name": "python"
    }
  },
  "cells": [
    {
      "cell_type": "markdown",
      "metadata": {
        "id": "uHfC1KVJbBV0"
      },
      "source": [
        "## Gensim word2vec에서 동일한 단어 임베딩 벡터 생성 방법"
      ]
    },
    {
      "cell_type": "code",
      "metadata": {
        "id": "pzQx11BFRUwD",
        "colab": {
          "base_uri": "https://localhost:8080/"
        },
        "outputId": "98ef3db9-41df-4f69-d86a-2729d1b70ca7"
      },
      "source": [
        "import nltk\n",
        "from nltk.tokenize import sent_tokenize\n",
        "nltk.download('stopwords')"
      ],
      "execution_count": null,
      "outputs": [
        {
          "output_type": "stream",
          "text": [
            "[nltk_data] Downloading package stopwords to /root/nltk_data...\n",
            "[nltk_data]   Package stopwords is already up-to-date!\n"
          ],
          "name": "stdout"
        },
        {
          "output_type": "execute_result",
          "data": {
            "text/plain": [
              "True"
            ]
          },
          "metadata": {
            "tags": []
          },
          "execution_count": 45
        }
      ]
    },
    {
      "cell_type": "code",
      "metadata": {
        "id": "lJBzF6e6RVWw"
      },
      "source": [
        "import string\n",
        "from nltk.corpus import stopwords"
      ],
      "execution_count": null,
      "outputs": []
    },
    {
      "cell_type": "code",
      "metadata": {
        "id": "kNnllDu1JO7B",
        "colab": {
          "base_uri": "https://localhost:8080/",
          "height": 107
        },
        "outputId": "5f466af6-9990-4345-d495-aa260772b903"
      },
      "source": [
        "with open('/content/펜웨이 파크 낮은 평점순.txt') as f:\n",
        "  text = f.read()\n",
        "\n",
        "text = text.lower()\n",
        "text"
      ],
      "execution_count": null,
      "outputs": [
        {
          "output_type": "execute_result",
          "data": {
            "application/vnd.google.colaboratory.intrinsic+json": {
              "type": "string"
            },
            "text/plain": [
              "'they kicked me out for no reason with under 5 minutes of going to the bathroom\\ngot attacked by ferals outside the wall, guards didn\\'t help.\\nwhat a waste of 4 hours go do something else other than a ball game\\nno smoking anywhere, not even a designated smoking area. that is crazy. i left the stadium, walked across the street, went down a alley and towards the rear of some building at some loading dock i thought i found a spot to puff but i got scolded at by event staff very rudely. you come here, expect not to puff for four hours but they let thousands get piss drunk though. extremely over priced, eleven bucks for a sixteen ounce twisted tea, nine bucks for a coco and thirty dollars for a knitted cap. a lame experience.\\nruim, o atendimento da bilheteria foi péssimo, pessoas sem educação não foram cortês tampouco solicitas com turistas! sem flexibilidade de horários! não aconselho, melhor conhecer o estádio do new engalnd!\\nthe older i get the less i hate going to the park seats are too crammed together i\\'d rather pay more money and have more room then feel like someone sitting on my lap the only way i\\'ll go is if i get free tickets from now on. on top of two hot dogs cost me 16 50 hot dogs are you serious. also a suggestion would be always have a live feed going up the game instead of staring at the two players that are upon deck or what have you\\nthe team that plays here blows\\ni choose to stay home and watch.just about everyone on cell phones and not even watching the game. $10+ for a 🍺, high-priced lousy food.  if i stay home, i can watch game without people walking in front of me; i\\nknow who used the bathroom last; and no $50+ parking.   used to be fun.\\ni\\'m a yankee fan. i went to wrigley field last year. i wanted to see fenway park in person. so i did. let\\'s go yankees!!\\nmayor mcdonough won\\'t let me in.\\nlove the sox hate the park. seats are way to small. sit in section 3 and you face left field. bathrooms have no dividers. you sit in lowerbox and all you have is vendors blocking your view.\\ncoats you $20 just to see the stadium of the red sox.\\nthey need to build a new pahk\\nthey kicked me out for smelling like pot....what!?!...guess you cant have expensive seats and be an adult legally enjoying their rights...or at least smelling like they are (mind you i was not smoking in the park or anysuch thing) and they said my friend was drunk (off the 2 beers they sold him)...should i have sat in the bleachers? maybe...or maybe i should have just stayed home like i will next time\\nsome kid in the back was trying to sell me irradiated sodas, the noodle vendor was some broken bot only speaking japanese and the other restaurant was ran by some snooty mr. handy bot. the bar tender roped me into a fight alongside the local radio dj travis. can\\'t even believe it.\\n... and piper was right... the mayor was a snyth!\\nit suck trying to get pi pick up,ot dropped off the city should really do something better than this for games.on parking around stadium , fine choose a spot for your buses and shuttle people to and from game simple. i\\'m not going through that again for a game.\\nneat to think of all this history and players that have played there. go yankees!\\nneed to update the seating and food amenities.  regular size guys can not sit in the seats without a shoe horn.\\none of the best teams, great history with the actual park, but spend some money on the seats!!\\nit isn’t fenway friendly. the prices are unbelievable high. they only care about making money not there fans\\nold and rundown. i can see why people like to go to a ballpark that is the oldest in the mlb but it is a mystery to me why the ballpark doesn’t violate building safety codes because the thing is old and falling apart. the fans are pretty obnoxious and that really makes the visit to the park less enjoyable.\\ntiny seats and there was a rat in the stands.\\nlousy red sox game, the home team lost.\\nhad we not bought our tickets from groupon, i would have really felt ripped off.\\ngreat staduim. filled with history! however, our issues arose when the game started.  we were seated next to a large group of students who came to take there seats in bleacher 41.  the problem arose when they stood in the isle for discussing where to sit in there mass section, fenway staff (2 of them) didn\\'t move for the first 15-17 minutes.  finally after other fans from our section complained (bleacher 39).  it took an entire inning for an sense of crowd control, and i would use that sentence loosely. looking at other sections of the park. they were not having the same problem  we drove 7 hours for our first ever red sox/ blue jays series and it\\'s so disappointing fenway can\\'t seem to figure out how to keep sigh lines clear and people help out of the isle.\\ndefinitely would recommend another staduim to check out a baseball game.\\nwent there for mccartney concert.  the park is a disaster.  the staffs are confused and disorganized.  we have to wait for 2 hours packed like sardines outside on the street to get in.  the stairs and seating are so narrow and very steep.  one can fall off if not careful. our chairs were so tight and uncomfortable.  viewing angle was bad.  the ground floor smells.  to top it off, a big tattooed guy started arguments with everyone around him and was also taking videos of attractive women around him.  people went to security to complain and security finally kicked him out after an hour.  but mccartney was great.\\noverpriced parking, beverage, food. weak team.\\nuncomfortable seats.\\nyou are paying high prices yo watch a losing team owned by a former hedge fund manager.\\nif your interest is in historic small ballparks, take a fenway tour instead. then watch a minor league team somewhere.\\ngreat stadium.  full of masshole red sox fans.\\nthe worst place i’ve ever been to, everything was horrible. the red sox are horrible, bostonians are horrible, their food is horrible, they cant get anything right.\\nthe one thing that was wrong is that the security officers are close to the worst i have ever encountered. every time my friends and i were trying to obtain a ball from one of the teams, we were rudely called out and forced back to our seats. after a few times of going back, mind you we were visiting in between innings, we were forced to display our tickits. this was one of the worst experiences that i have had at a professional sports park and i will not be returning. this ruines the sport for me and my fellow peers.\\nwhat a dump....this place is as pleasant as the interior of a watertreat plant at half time during the super bowl. the concession stands actually close at the 7th innings. nobody eats after 7th i guess. i don\\'t drink but noticed 1075 for a bud light and 575 for water. when are we going to learn not to be taken advantage of. go to pawtucket and watch real baseball where the community is appreciated.\\ni’ve been to this park many times. now my sons are old enough to spend the hundreds of dollars it takes to enjoy a single game. the game was cold and rainy so my sons and i decided to leave the game a little early. before we were going to leave the park, we wanted to go to the team store. i wanted to get my sons souvenirs from their first game at fenway. we asked a security guard which way would get us there. he directed us out of the park and around the block. when we got to where the security guard directed us, we were told that we cannot “re-enter” the park. we weren’t even trying to re-enter the park, just the team store that isn’t even inside fenway park. completely disappointed in the lack of knowledge by the employees and lack of care for a father trying to create a memory with his sons at the oldest ball park in history. the red sox have lost me as a paying fan after this. i should have stopped buying tickets back when jacoby ellsbury was on the team and i witnessed him snub off a few kids who just wanted 5 seconds of his time to sign a ball. if that’s too much for you, maybe you’re in the wrong profession. these kids look up to you guys and that’s how you treat them? you’re lucky i’m not your manager. i wouldn’t want that type of attitude in my ball club. but then again, he went to the yankees.. either way, good-bye red sox.\\neverything was very expensive and no one was watching the game😑 i will not be returning. but i still love the red sox\\nnot a very baseball knowledge town. need to go to yankees game at yankee stadium. and get educated.lol\\nlong time sox fan.  sad to write this review.  staff was inconsiderate, definitely rude.  no consideration for the fan base and lack of respect.  don\\'t want to come back again.  multiple poor experiences at the park now.  disenchanted fan.  get over yourselfs boston.  you are not friendly confines.\\nfenway park is a beautiful facility. we watched 2 games on the 17th and 18th of july which were great. the people of boston are unbelievably great. the tour of fenway however was not worth $5 let alone $35. they took us in let us stand on the warning track for 10 minutes walked us up to the seats behind home plate and told us the seats were the oldest in the building at 83 years old then we walked up to and got to sit up on the green monster for 15 minutes. there was no information about the facility or the history of the facility other than the 83 year old seats, would not recommend wasting your money on this tour.\\nno stands that sell both hot dogs and beer. a true outrage and totally tonedeaf to the population that attends these games/wins championships.\\nthis place is way expensive 12 bucks for hotdog and water wow\\na very disappointing visit. as a life long red sox fan, i tried to take a tour of fenway. also being an active leo, i’ve never been denied access if i was carrying. never got pushed away from yankee stadium. might become a nyy fan after over 30 years as a red sox fan based on how poorly i was treated. very sad.\\nvery bad i could not visit since im in england\\nworst baseball venue i have ever been too, city sucks, and the people even more. find a triple a team to go watch instead...or a flea market.\\nexcessive noise emanating from premise. abutters can be rowdy and do litter.\\nawsome i watch a baseball game yesterday against the mariners seattle\\naramark is a joke....  the food and drinks are over priced, the staff is rude.  they have a monopoly on the ballpark and have a fu attitude toward people....love the park itself and the team.  too bad the food and drink vendors ruined my only chance to see a game at this park....\\nthis ballpark sucks. it\\'s hard to see the field. employees are rude and not helpful when you are trying to find your seat.\\nwish i can give them zero stars\\nthanks to the boston health commission, you can no longer smoke in the designated smoking area off of yawkey way, not whatever name you liberal moonbats change it to. people who smoke have rights.  not trying to smoke next to anybody, but the section that has been roped off for years is now a smoke free area and it\\'s absolutely ridiculous. it is not near anyone or anything, but yet since boston has become a liberal fascist regime, you can no longer smoke in that area.  i love fenway and everything about it, but it has turned into a liberal concentration camp with their changing of street names and now the smoking area being taken away. it did not bother anyone, it was off the beaten path, no one is affected by any smoke in that area. instead we have a fascist walsh regime that wants to control all aspects of everyone\\'s life, but i thought liberals and \"antifa\" were against \"president trump for being a fascist\", think again. you people are the fascists, plain and simple and it stands against everything this country was built on. ironic.\\nonly come here if you like baseball or the red soxs. otherwise don\\'t bother don\\'t bother with fenway.\\nfun. if you have tons of cash to pay for 9 dollar beers and 50 dollar parking. welcome to boston\\ntook a tour, what a dump. side note yankees are and will be the greatest sports franchise in the history of sport. plus side, since it was a tour the stadium wasn\\'t full of nomar loving red sox fans. also \"the town\" was a bad movie.\\nthe red sox  play here so i wouldn\\'t recommend going here. when they are in the world series the police are everywhere and shut down the streets. this place reeks of tolitarianism.\\nrude security staff. limited parking means there is a lot of walking in the heat. yet they get upset if you have a small bottle of water, ... yell at you and confiscate it at the door.\\nrude people.\\nthe yankees are better.\\nnot good if getting around\\nfor the ultra rich only, plus the team is awful\\ni only go there if i have no other choice\\nterrible experience, unprofessional employees at the stadium.  i wrote to customer service and did not receive a reply.\\nwhat can i say \"yankees fan\" lol\\nit\\'s totally a \"me\" thing, but something bad always happens when i go to red sox games.  i\\'ve since decided that i will not be returning.  my experience is the exception, not the rule!\\ncompass and square made into a game only no human sacrifices.  one star!\\nthe fans are rude. the one thing worse than a bad team is when the fans boo uncontrollably and are horribly mean to people wearing shirts from other teams. the stadium is lovely, but the people there make it terrible.\\ni came in to boston to meet up with friends, and we decided to get tickets to a red sox game. we were enjoying it, but then the people next to us starting loudly making fun of my friend with autism, specifically of his autistic tendencies and social miscues and also his race. he didn\\'t realize it, but i couldn\\'t confront them because he was between me and them and he\\'d hear. so i asked some sox fans on the other side of me what to do, or how to contact security about it. they said \"this is boston, everyone\\'s like that. no one cares.\"\\n\\nso because of that, i\\'ve rated fenway 1 star.  terribly overpriced, judgmental and racist fans that make fun of mental disabilities, and other fans that think it\\'s okay.\\nwas very disappointed on how the young people at fenway did not stand or remove their hats for the national anthem. it was a disgrace and this country should be ashamed.\\nnew england patriots are cheaters... and the red sox should put cheating peices in their bats, like patriots cheat\\nnot a park, no slides or swings. me and my dog were forcibly removed less than 1 min after playing on the field. me and spot will not be returning!\\nemployees take personal and private property including electronics and medicine. never going back here.\\nthe people who use this place illegally park like crazy in the fenway. all a bunch of drunk idiots who hit cars.\\nthe seats are too small and nobody said send you can\\'t see the game and it would be nice if you could see it on the board but they only do the replays on the board so overall it was a bad experience\\nnot for middle class\\ntour of fenway park, was excellent!\\nsecurity guards and employees extremely rude. employee coming around with drinks never stopped when the 4 of asked for drinks.\\nscrew the red sox and their racist management\\ntear it down. worst ballpark to watch a game in the majors. grandstand seats face the outfield rather than home plate plus they\\'re tighter than seats on ryainair. beer prices are stupid.\\nyikes. fine stadium. but woof the team on the field stinks\\ndisappointed with obstructed seats with water dripping from above. the lines at the concessions were the longest we\\'d ever seen.\\nwhere do i begin overpriced uncomfortable seats shall i go on\\ni didn’t win my dance off song\\ntear it down!!!! if you ever go to camden yards you will see a new stadium with an old feel.\\nfenway park is a ugly stadium plus they got the nasty food and i don’t like green monster and they don’t got parking\\nthe red sox must die throw them in a pit with their new manager mohammed\\nhaven\\'t gone there\\nplease, someday,  get human-size seats\\nnot a fan of big cities or sports\\ndrinks were crazy expensive\\nsucks, just like everyone in boston, if i could give it no stars i would\\n'"
            ]
          },
          "metadata": {
            "tags": []
          },
          "execution_count": 83
        }
      ]
    },
    {
      "cell_type": "code",
      "metadata": {
        "colab": {
          "base_uri": "https://localhost:8080/"
        },
        "id": "zT7sDlkjKjFD",
        "outputId": "fc749f55-5bd2-4994-e176-aa2101a9d440"
      },
      "source": [
        "import nltk\n",
        "nltk.download('punkt')\n",
        "\n",
        "sent_list = sent_tokenize(text)\n",
        "sent_list"
      ],
      "execution_count": null,
      "outputs": [
        {
          "output_type": "stream",
          "text": [
            "[nltk_data] Downloading package punkt to /root/nltk_data...\n",
            "[nltk_data]   Package punkt is already up-to-date!\n"
          ],
          "name": "stdout"
        },
        {
          "output_type": "execute_result",
          "data": {
            "text/plain": [
              "[\"they kicked me out for no reason with under 5 minutes of going to the bathroom\\ngot attacked by ferals outside the wall, guards didn't help.\",\n",
              " 'what a waste of 4 hours go do something else other than a ball game\\nno smoking anywhere, not even a designated smoking area.',\n",
              " 'that is crazy.',\n",
              " 'i left the stadium, walked across the street, went down a alley and towards the rear of some building at some loading dock i thought i found a spot to puff but i got scolded at by event staff very rudely.',\n",
              " 'you come here, expect not to puff for four hours but they let thousands get piss drunk though.',\n",
              " 'extremely over priced, eleven bucks for a sixteen ounce twisted tea, nine bucks for a coco and thirty dollars for a knitted cap.',\n",
              " 'a lame experience.',\n",
              " 'ruim, o atendimento da bilheteria foi péssimo, pessoas sem educação não foram cortês tampouco solicitas com turistas!',\n",
              " 'sem flexibilidade de horários!',\n",
              " 'não aconselho, melhor conhecer o estádio do new engalnd!',\n",
              " \"the older i get the less i hate going to the park seats are too crammed together i'd rather pay more money and have more room then feel like someone sitting on my lap the only way i'll go is if i get free tickets from now on.\",\n",
              " 'on top of two hot dogs cost me 16 50 hot dogs are you serious.',\n",
              " 'also a suggestion would be always have a live feed going up the game instead of staring at the two players that are upon deck or what have you\\nthe team that plays here blows\\ni choose to stay home and watch.just about everyone on cell phones and not even watching the game.',\n",
              " '$10+ for a 🍺, high-priced lousy food.',\n",
              " 'if i stay home, i can watch game without people walking in front of me; i\\nknow who used the bathroom last; and no $50+ parking.',\n",
              " 'used to be fun.',\n",
              " \"i'm a yankee fan.\",\n",
              " 'i went to wrigley field last year.',\n",
              " 'i wanted to see fenway park in person.',\n",
              " 'so i did.',\n",
              " \"let's go yankees!!\",\n",
              " \"mayor mcdonough won't let me in.\",\n",
              " 'love the sox hate the park.',\n",
              " 'seats are way to small.',\n",
              " 'sit in section 3 and you face left field.',\n",
              " 'bathrooms have no dividers.',\n",
              " 'you sit in lowerbox and all you have is vendors blocking your view.',\n",
              " 'coats you $20 just to see the stadium of the red sox.',\n",
              " 'they need to build a new pahk\\nthey kicked me out for smelling like pot....what!?',\n",
              " '!...guess you cant have expensive seats and be an adult legally enjoying their rights...or at least smelling like they are (mind you i was not smoking in the park or anysuch thing) and they said my friend was drunk (off the 2 beers they sold him)...should i have sat in the bleachers?',\n",
              " 'maybe...or maybe i should have just stayed home like i will next time\\nsome kid in the back was trying to sell me irradiated sodas, the noodle vendor was some broken bot only speaking japanese and the other restaurant was ran by some snooty mr. handy bot.',\n",
              " 'the bar tender roped me into a fight alongside the local radio dj travis.',\n",
              " \"can't even believe it.\",\n",
              " '... and piper was right... the mayor was a snyth!',\n",
              " 'it suck trying to get pi pick up,ot dropped off the city should really do something better than this for games.on parking around stadium , fine choose a spot for your buses and shuttle people to and from game simple.',\n",
              " \"i'm not going through that again for a game.\",\n",
              " 'neat to think of all this history and players that have played there.',\n",
              " 'go yankees!',\n",
              " 'need to update the seating and food amenities.',\n",
              " 'regular size guys can not sit in the seats without a shoe horn.',\n",
              " 'one of the best teams, great history with the actual park, but spend some money on the seats!!',\n",
              " 'it isn’t fenway friendly.',\n",
              " 'the prices are unbelievable high.',\n",
              " 'they only care about making money not there fans\\nold and rundown.',\n",
              " 'i can see why people like to go to a ballpark that is the oldest in the mlb but it is a mystery to me why the ballpark doesn’t violate building safety codes because the thing is old and falling apart.',\n",
              " 'the fans are pretty obnoxious and that really makes the visit to the park less enjoyable.',\n",
              " 'tiny seats and there was a rat in the stands.',\n",
              " 'lousy red sox game, the home team lost.',\n",
              " 'had we not bought our tickets from groupon, i would have really felt ripped off.',\n",
              " 'great staduim.',\n",
              " 'filled with history!',\n",
              " 'however, our issues arose when the game started.',\n",
              " \"we were seated next to a large group of students who came to take there seats in bleacher 41.  the problem arose when they stood in the isle for discussing where to sit in there mass section, fenway staff (2 of them) didn't move for the first 15-17 minutes.\",\n",
              " 'finally after other fans from our section complained (bleacher 39).',\n",
              " 'it took an entire inning for an sense of crowd control, and i would use that sentence loosely.',\n",
              " 'looking at other sections of the park.',\n",
              " \"they were not having the same problem  we drove 7 hours for our first ever red sox/ blue jays series and it's so disappointing fenway can't seem to figure out how to keep sigh lines clear and people help out of the isle.\",\n",
              " 'definitely would recommend another staduim to check out a baseball game.',\n",
              " 'went there for mccartney concert.',\n",
              " 'the park is a disaster.',\n",
              " 'the staffs are confused and disorganized.',\n",
              " 'we have to wait for 2 hours packed like sardines outside on the street to get in.',\n",
              " 'the stairs and seating are so narrow and very steep.',\n",
              " 'one can fall off if not careful.',\n",
              " 'our chairs were so tight and uncomfortable.',\n",
              " 'viewing angle was bad.',\n",
              " 'the ground floor smells.',\n",
              " 'to top it off, a big tattooed guy started arguments with everyone around him and was also taking videos of attractive women around him.',\n",
              " 'people went to security to complain and security finally kicked him out after an hour.',\n",
              " 'but mccartney was great.',\n",
              " 'overpriced parking, beverage, food.',\n",
              " 'weak team.',\n",
              " 'uncomfortable seats.',\n",
              " 'you are paying high prices yo watch a losing team owned by a former hedge fund manager.',\n",
              " 'if your interest is in historic small ballparks, take a fenway tour instead.',\n",
              " 'then watch a minor league team somewhere.',\n",
              " 'great stadium.',\n",
              " 'full of masshole red sox fans.',\n",
              " 'the worst place i’ve ever been to, everything was horrible.',\n",
              " 'the red sox are horrible, bostonians are horrible, their food is horrible, they cant get anything right.',\n",
              " 'the one thing that was wrong is that the security officers are close to the worst i have ever encountered.',\n",
              " 'every time my friends and i were trying to obtain a ball from one of the teams, we were rudely called out and forced back to our seats.',\n",
              " 'after a few times of going back, mind you we were visiting in between innings, we were forced to display our tickits.',\n",
              " 'this was one of the worst experiences that i have had at a professional sports park and i will not be returning.',\n",
              " 'this ruines the sport for me and my fellow peers.',\n",
              " 'what a dump....this place is as pleasant as the interior of a watertreat plant at half time during the super bowl.',\n",
              " 'the concession stands actually close at the 7th innings.',\n",
              " 'nobody eats after 7th i guess.',\n",
              " \"i don't drink but noticed 1075 for a bud light and 575 for water.\",\n",
              " 'when are we going to learn not to be taken advantage of.',\n",
              " 'go to pawtucket and watch real baseball where the community is appreciated.',\n",
              " 'i’ve been to this park many times.',\n",
              " 'now my sons are old enough to spend the hundreds of dollars it takes to enjoy a single game.',\n",
              " 'the game was cold and rainy so my sons and i decided to leave the game a little early.',\n",
              " 'before we were going to leave the park, we wanted to go to the team store.',\n",
              " 'i wanted to get my sons souvenirs from their first game at fenway.',\n",
              " 'we asked a security guard which way would get us there.',\n",
              " 'he directed us out of the park and around the block.',\n",
              " 'when we got to where the security guard directed us, we were told that we cannot “re-enter” the park.',\n",
              " 'we weren’t even trying to re-enter the park, just the team store that isn’t even inside fenway park.',\n",
              " 'completely disappointed in the lack of knowledge by the employees and lack of care for a father trying to create a memory with his sons at the oldest ball park in history.',\n",
              " 'the red sox have lost me as a paying fan after this.',\n",
              " 'i should have stopped buying tickets back when jacoby ellsbury was on the team and i witnessed him snub off a few kids who just wanted 5 seconds of his time to sign a ball.',\n",
              " 'if that’s too much for you, maybe you’re in the wrong profession.',\n",
              " 'these kids look up to you guys and that’s how you treat them?',\n",
              " 'you’re lucky i’m not your manager.',\n",
              " 'i wouldn’t want that type of attitude in my ball club.',\n",
              " 'but then again, he went to the yankees.. either way, good-bye red sox.',\n",
              " 'everything was very expensive and no one was watching the game😑 i will not be returning.',\n",
              " 'but i still love the red sox\\nnot a very baseball knowledge town.',\n",
              " 'need to go to yankees game at yankee stadium.',\n",
              " 'and get educated.lol\\nlong time sox fan.',\n",
              " 'sad to write this review.',\n",
              " 'staff was inconsiderate, definitely rude.',\n",
              " 'no consideration for the fan base and lack of respect.',\n",
              " \"don't want to come back again.\",\n",
              " 'multiple poor experiences at the park now.',\n",
              " 'disenchanted fan.',\n",
              " 'get over yourselfs boston.',\n",
              " 'you are not friendly confines.',\n",
              " 'fenway park is a beautiful facility.',\n",
              " 'we watched 2 games on the 17th and 18th of july which were great.',\n",
              " 'the people of boston are unbelievably great.',\n",
              " 'the tour of fenway however was not worth $5 let alone $35.',\n",
              " 'they took us in let us stand on the warning track for 10 minutes walked us up to the seats behind home plate and told us the seats were the oldest in the building at 83 years old then we walked up to and got to sit up on the green monster for 15 minutes.',\n",
              " 'there was no information about the facility or the history of the facility other than the 83 year old seats, would not recommend wasting your money on this tour.',\n",
              " 'no stands that sell both hot dogs and beer.',\n",
              " 'a true outrage and totally tonedeaf to the population that attends these games/wins championships.',\n",
              " 'this place is way expensive 12 bucks for hotdog and water wow\\na very disappointing visit.',\n",
              " 'as a life long red sox fan, i tried to take a tour of fenway.',\n",
              " 'also being an active leo, i’ve never been denied access if i was carrying.',\n",
              " 'never got pushed away from yankee stadium.',\n",
              " 'might become a nyy fan after over 30 years as a red sox fan based on how poorly i was treated.',\n",
              " 'very sad.',\n",
              " 'very bad i could not visit since im in england\\nworst baseball venue i have ever been too, city sucks, and the people even more.',\n",
              " 'find a triple a team to go watch instead...or a flea market.',\n",
              " 'excessive noise emanating from premise.',\n",
              " 'abutters can be rowdy and do litter.',\n",
              " 'awsome i watch a baseball game yesterday against the mariners seattle\\naramark is a joke....  the food and drinks are over priced, the staff is rude.',\n",
              " 'they have a monopoly on the ballpark and have a fu attitude toward people....love the park itself and the team.',\n",
              " 'too bad the food and drink vendors ruined my only chance to see a game at this park....\\nthis ballpark sucks.',\n",
              " \"it's hard to see the field.\",\n",
              " 'employees are rude and not helpful when you are trying to find your seat.',\n",
              " 'wish i can give them zero stars\\nthanks to the boston health commission, you can no longer smoke in the designated smoking area off of yawkey way, not whatever name you liberal moonbats change it to.',\n",
              " 'people who smoke have rights.',\n",
              " \"not trying to smoke next to anybody, but the section that has been roped off for years is now a smoke free area and it's absolutely ridiculous.\",\n",
              " 'it is not near anyone or anything, but yet since boston has become a liberal fascist regime, you can no longer smoke in that area.',\n",
              " 'i love fenway and everything about it, but it has turned into a liberal concentration camp with their changing of street names and now the smoking area being taken away.',\n",
              " 'it did not bother anyone, it was off the beaten path, no one is affected by any smoke in that area.',\n",
              " 'instead we have a fascist walsh regime that wants to control all aspects of everyone\\'s life, but i thought liberals and \"antifa\" were against \"president trump for being a fascist\", think again.',\n",
              " 'you people are the fascists, plain and simple and it stands against everything this country was built on.',\n",
              " 'ironic.',\n",
              " 'only come here if you like baseball or the red soxs.',\n",
              " \"otherwise don't bother don't bother with fenway.\",\n",
              " 'fun.',\n",
              " 'if you have tons of cash to pay for 9 dollar beers and 50 dollar parking.',\n",
              " 'welcome to boston\\ntook a tour, what a dump.',\n",
              " 'side note yankees are and will be the greatest sports franchise in the history of sport.',\n",
              " \"plus side, since it was a tour the stadium wasn't full of nomar loving red sox fans.\",\n",
              " 'also \"the town\" was a bad movie.',\n",
              " \"the red sox  play here so i wouldn't recommend going here.\",\n",
              " 'when they are in the world series the police are everywhere and shut down the streets.',\n",
              " 'this place reeks of tolitarianism.',\n",
              " 'rude security staff.',\n",
              " 'limited parking means there is a lot of walking in the heat.',\n",
              " 'yet they get upset if you have a small bottle of water, ... yell at you and confiscate it at the door.',\n",
              " 'rude people.',\n",
              " 'the yankees are better.',\n",
              " 'not good if getting around\\nfor the ultra rich only, plus the team is awful\\ni only go there if i have no other choice\\nterrible experience, unprofessional employees at the stadium.',\n",
              " 'i wrote to customer service and did not receive a reply.',\n",
              " 'what can i say \"yankees fan\" lol\\nit\\'s totally a \"me\" thing, but something bad always happens when i go to red sox games.',\n",
              " \"i've since decided that i will not be returning.\",\n",
              " 'my experience is the exception, not the rule!',\n",
              " 'compass and square made into a game only no human sacrifices.',\n",
              " 'one star!',\n",
              " 'the fans are rude.',\n",
              " 'the one thing worse than a bad team is when the fans boo uncontrollably and are horribly mean to people wearing shirts from other teams.',\n",
              " 'the stadium is lovely, but the people there make it terrible.',\n",
              " 'i came in to boston to meet up with friends, and we decided to get tickets to a red sox game.',\n",
              " 'we were enjoying it, but then the people next to us starting loudly making fun of my friend with autism, specifically of his autistic tendencies and social miscues and also his race.',\n",
              " \"he didn't realize it, but i couldn't confront them because he was between me and them and he'd hear.\",\n",
              " 'so i asked some sox fans on the other side of me what to do, or how to contact security about it.',\n",
              " 'they said \"this is boston, everyone\\'s like that.',\n",
              " 'no one cares.\"',\n",
              " \"so because of that, i've rated fenway 1 star.\",\n",
              " \"terribly overpriced, judgmental and racist fans that make fun of mental disabilities, and other fans that think it's okay.\",\n",
              " 'was very disappointed on how the young people at fenway did not stand or remove their hats for the national anthem.',\n",
              " 'it was a disgrace and this country should be ashamed.',\n",
              " 'new england patriots are cheaters... and the red sox should put cheating peices in their bats, like patriots cheat\\nnot a park, no slides or swings.',\n",
              " 'me and my dog were forcibly removed less than 1 min after playing on the field.',\n",
              " 'me and spot will not be returning!',\n",
              " 'employees take personal and private property including electronics and medicine.',\n",
              " 'never going back here.',\n",
              " 'the people who use this place illegally park like crazy in the fenway.',\n",
              " 'all a bunch of drunk idiots who hit cars.',\n",
              " \"the seats are too small and nobody said send you can't see the game and it would be nice if you could see it on the board but they only do the replays on the board so overall it was a bad experience\\nnot for middle class\\ntour of fenway park, was excellent!\",\n",
              " 'security guards and employees extremely rude.',\n",
              " 'employee coming around with drinks never stopped when the 4 of asked for drinks.',\n",
              " 'screw the red sox and their racist management\\ntear it down.',\n",
              " 'worst ballpark to watch a game in the majors.',\n",
              " \"grandstand seats face the outfield rather than home plate plus they're tighter than seats on ryainair.\",\n",
              " 'beer prices are stupid.',\n",
              " 'yikes.',\n",
              " 'fine stadium.',\n",
              " 'but woof the team on the field stinks\\ndisappointed with obstructed seats with water dripping from above.',\n",
              " \"the lines at the concessions were the longest we'd ever seen.\",\n",
              " 'where do i begin overpriced uncomfortable seats shall i go on\\ni didn’t win my dance off song\\ntear it down!!!!',\n",
              " 'if you ever go to camden yards you will see a new stadium with an old feel.',\n",
              " \"fenway park is a ugly stadium plus they got the nasty food and i don’t like green monster and they don’t got parking\\nthe red sox must die throw them in a pit with their new manager mohammed\\nhaven't gone there\\nplease, someday,  get human-size seats\\nnot a fan of big cities or sports\\ndrinks were crazy expensive\\nsucks, just like everyone in boston, if i could give it no stars i would\"]"
            ]
          },
          "metadata": {
            "tags": []
          },
          "execution_count": 84
        }
      ]
    },
    {
      "cell_type": "code",
      "metadata": {
        "id": "T7aDfqKeRPJx"
      },
      "source": [
        "def preprocessing(sent_list):  #corpus\n",
        "    stop_words = set(stopwords.words('english'))\n",
        "    training_data = []\n",
        "    sentences = sent_list\n",
        "    sentences = list(filter(None, sentences))\n",
        "    for i in range(len(sentences)):\n",
        "        sentences[i] = sentences[i].strip()\n",
        "        sentence = sentences[i].split()\n",
        "        x = [word.strip(string.punctuation) for word in sentence\n",
        "                                     if word not in stop_words]\n",
        "        x = [word.lower() for word in x]\n",
        "        training_data.append(x)\n",
        "    return training_data\n",
        "\n",
        "    #corpus.split(\".\")"
      ],
      "execution_count": null,
      "outputs": []
    },
    {
      "cell_type": "code",
      "metadata": {
        "id": "tkFq-58BReCY"
      },
      "source": [
        "train_data = preprocessing(sent_list) #corpus"
      ],
      "execution_count": null,
      "outputs": []
    },
    {
      "cell_type": "code",
      "metadata": {
        "colab": {
          "base_uri": "https://localhost:8080/"
        },
        "id": "Bvv9oimsGj1a",
        "outputId": "49197d67-bfc9-4019-c702-65e86b67ff52"
      },
      "source": [
        "print(train_data)"
      ],
      "execution_count": null,
      "outputs": [
        {
          "output_type": "stream",
          "text": [
            "[['kicked', 'reason', '5', 'minutes', 'going', 'bathroom', 'got', 'attacked', 'ferals', 'outside', 'wall', 'guards', 'help'], ['waste', '4', 'hours', 'go', 'something', 'else', 'ball', 'game', 'smoking', 'anywhere', 'even', 'designated', 'smoking', 'area'], ['crazy'], ['left', 'stadium', 'walked', 'across', 'street', 'went', 'alley', 'towards', 'rear', 'building', 'loading', 'dock', 'thought', 'found', 'spot', 'puff', 'got', 'scolded', 'event', 'staff', 'rudely'], ['come', 'here', 'expect', 'puff', 'four', 'hours', 'let', 'thousands', 'get', 'piss', 'drunk', 'though'], ['extremely', 'priced', 'eleven', 'bucks', 'sixteen', 'ounce', 'twisted', 'tea', 'nine', 'bucks', 'coco', 'thirty', 'dollars', 'knitted', 'cap'], ['lame', 'experience'], ['ruim', 'atendimento', 'da', 'bilheteria', 'foi', 'péssimo', 'pessoas', 'sem', 'educação', 'não', 'foram', 'cortês', 'tampouco', 'solicitas', 'com', 'turistas'], ['sem', 'flexibilidade', 'de', 'horários'], ['não', 'aconselho', 'melhor', 'conhecer', 'estádio', 'new', 'engalnd'], ['older', 'get', 'less', 'hate', 'going', 'park', 'seats', 'crammed', 'together', \"i'd\", 'rather', 'pay', 'money', 'room', 'feel', 'like', 'someone', 'sitting', 'lap', 'way', \"i'll\", 'go', 'get', 'free', 'tickets', 'on'], ['top', 'two', 'hot', 'dogs', 'cost', '16', '50', 'hot', 'dogs', 'serious'], ['also', 'suggestion', 'would', 'always', 'live', 'feed', 'going', 'game', 'instead', 'staring', 'two', 'players', 'upon', 'deck', 'team', 'plays', 'blows', 'choose', 'stay', 'home', 'watch.just', 'everyone', 'cell', 'phones', 'even', 'watching', 'game'], ['10', '🍺', 'high-priced', 'lousy', 'food'], ['stay', 'home', 'watch', 'game', 'without', 'people', 'walking', 'front', 'me', 'know', 'used', 'bathroom', 'last', '50', 'parking'], ['used', 'fun'], [\"i'm\", 'yankee', 'fan'], ['went', 'wrigley', 'field', 'last', 'year'], ['wanted', 'see', 'fenway', 'park', 'person'], ['did'], [\"let's\", 'go', 'yankees'], ['mayor', 'mcdonough', 'let', 'in'], ['love', 'sox', 'hate', 'park'], ['seats', 'way', 'small'], ['sit', 'section', '3', 'face', 'left', 'field'], ['bathrooms', 'dividers'], ['sit', 'lowerbox', 'vendors', 'blocking', 'view'], ['coats', '20', 'see', 'stadium', 'red', 'sox'], ['need', 'build', 'new', 'pahk', 'kicked', 'smelling', 'like', 'pot....what'], ['guess', 'cant', 'expensive', 'seats', 'adult', 'legally', 'enjoying', 'rights...or', 'least', 'smelling', 'like', 'mind', 'smoking', 'park', 'anysuch', 'thing', 'said', 'friend', 'drunk', 'off', '2', 'beers', 'sold', 'him)...should', 'sat', 'bleachers'], ['maybe...or', 'maybe', 'stayed', 'home', 'like', 'next', 'time', 'kid', 'back', 'trying', 'sell', 'irradiated', 'sodas', 'noodle', 'vendor', 'broken', 'bot', 'speaking', 'japanese', 'restaurant', 'ran', 'snooty', 'mr', 'handy', 'bot'], ['bar', 'tender', 'roped', 'fight', 'alongside', 'local', 'radio', 'dj', 'travis'], [\"can't\", 'even', 'believe', 'it'], ['', 'piper', 'right', 'mayor', 'snyth'], ['suck', 'trying', 'get', 'pi', 'pick', 'up,ot', 'dropped', 'city', 'really', 'something', 'better', 'games.on', 'parking', 'around', 'stadium', '', 'fine', 'choose', 'spot', 'buses', 'shuttle', 'people', 'game', 'simple'], [\"i'm\", 'going', 'game'], ['neat', 'think', 'history', 'players', 'played', 'there'], ['go', 'yankees'], ['need', 'update', 'seating', 'food', 'amenities'], ['regular', 'size', 'guys', 'sit', 'seats', 'without', 'shoe', 'horn'], ['one', 'best', 'teams', 'great', 'history', 'actual', 'park', 'spend', 'money', 'seats'], ['isn’t', 'fenway', 'friendly'], ['prices', 'unbelievable', 'high'], ['care', 'making', 'money', 'fans', 'old', 'rundown'], ['see', 'people', 'like', 'go', 'ballpark', 'oldest', 'mlb', 'mystery', 'ballpark', 'doesn’t', 'violate', 'building', 'safety', 'codes', 'thing', 'old', 'falling', 'apart'], ['fans', 'pretty', 'obnoxious', 'really', 'makes', 'visit', 'park', 'less', 'enjoyable'], ['tiny', 'seats', 'rat', 'stands'], ['lousy', 'red', 'sox', 'game', 'home', 'team', 'lost'], ['bought', 'tickets', 'groupon', 'would', 'really', 'felt', 'ripped', 'off'], ['great', 'staduim'], ['filled', 'history'], ['however', 'issues', 'arose', 'game', 'started'], ['seated', 'next', 'large', 'group', 'students', 'came', 'take', 'seats', 'bleacher', '41', 'problem', 'arose', 'stood', 'isle', 'discussing', 'sit', 'mass', 'section', 'fenway', 'staff', '2', 'them', 'move', 'first', '15-17', 'minutes'], ['finally', 'fans', 'section', 'complained', 'bleacher', '39'], ['took', 'entire', 'inning', 'sense', 'crowd', 'control', 'would', 'use', 'sentence', 'loosely'], ['looking', 'sections', 'park'], ['problem', 'drove', '7', 'hours', 'first', 'ever', 'red', 'sox', 'blue', 'jays', 'series', 'disappointing', 'fenway', \"can't\", 'seem', 'figure', 'keep', 'sigh', 'lines', 'clear', 'people', 'help', 'isle'], ['definitely', 'would', 'recommend', 'another', 'staduim', 'check', 'baseball', 'game'], ['went', 'mccartney', 'concert'], ['park', 'disaster'], ['staffs', 'confused', 'disorganized'], ['wait', '2', 'hours', 'packed', 'like', 'sardines', 'outside', 'street', 'get', 'in'], ['stairs', 'seating', 'narrow', 'steep'], ['one', 'fall', 'careful'], ['chairs', 'tight', 'uncomfortable'], ['viewing', 'angle', 'bad'], ['ground', 'floor', 'smells'], ['top', 'off', 'big', 'tattooed', 'guy', 'started', 'arguments', 'everyone', 'around', 'also', 'taking', 'videos', 'attractive', 'women', 'around', 'him'], ['people', 'went', 'security', 'complain', 'security', 'finally', 'kicked', 'hour'], ['mccartney', 'great'], ['overpriced', 'parking', 'beverage', 'food'], ['weak', 'team'], ['uncomfortable', 'seats'], ['paying', 'high', 'prices', 'yo', 'watch', 'losing', 'team', 'owned', 'former', 'hedge', 'fund', 'manager'], ['interest', 'historic', 'small', 'ballparks', 'take', 'fenway', 'tour', 'instead'], ['watch', 'minor', 'league', 'team', 'somewhere'], ['great', 'stadium'], ['full', 'masshole', 'red', 'sox', 'fans'], ['worst', 'place', 'i’ve', 'ever', 'to', 'everything', 'horrible'], ['red', 'sox', 'horrible', 'bostonians', 'horrible', 'food', 'horrible', 'cant', 'get', 'anything', 'right'], ['one', 'thing', 'wrong', 'security', 'officers', 'close', 'worst', 'ever', 'encountered'], ['every', 'time', 'friends', 'trying', 'obtain', 'ball', 'one', 'teams', 'rudely', 'called', 'forced', 'back', 'seats'], ['times', 'going', 'back', 'mind', 'visiting', 'innings', 'forced', 'display', 'tickits'], ['one', 'worst', 'experiences', 'professional', 'sports', 'park', 'returning'], ['ruines', 'sport', 'fellow', 'peers'], ['dump....this', 'place', 'pleasant', 'interior', 'watertreat', 'plant', 'half', 'time', 'super', 'bowl'], ['concession', 'stands', 'actually', 'close', '7th', 'innings'], ['nobody', 'eats', '7th', 'guess'], ['drink', 'noticed', '1075', 'bud', 'light', '575', 'water'], ['going', 'learn', 'taken', 'advantage', 'of'], ['go', 'pawtucket', 'watch', 'real', 'baseball', 'community', 'appreciated'], ['i’ve', 'park', 'many', 'times'], ['sons', 'old', 'enough', 'spend', 'hundreds', 'dollars', 'takes', 'enjoy', 'single', 'game'], ['game', 'cold', 'rainy', 'sons', 'decided', 'leave', 'game', 'little', 'early'], ['going', 'leave', 'park', 'wanted', 'go', 'team', 'store'], ['wanted', 'get', 'sons', 'souvenirs', 'first', 'game', 'fenway'], ['asked', 'security', 'guard', 'way', 'would', 'get', 'us', 'there'], ['directed', 'us', 'park', 'around', 'block'], ['got', 'security', 'guard', 'directed', 'us', 'told', 'cannot', '“re-enter”', 'park'], ['weren’t', 'even', 'trying', 're-enter', 'park', 'team', 'store', 'isn’t', 'even', 'inside', 'fenway', 'park'], ['completely', 'disappointed', 'lack', 'knowledge', 'employees', 'lack', 'care', 'father', 'trying', 'create', 'memory', 'sons', 'oldest', 'ball', 'park', 'history'], ['red', 'sox', 'lost', 'paying', 'fan', 'this'], ['stopped', 'buying', 'tickets', 'back', 'jacoby', 'ellsbury', 'team', 'witnessed', 'snub', 'kids', 'wanted', '5', 'seconds', 'time', 'sign', 'ball'], ['that’s', 'much', 'you', 'maybe', 'you’re', 'wrong', 'profession'], ['kids', 'look', 'guys', 'that’s', 'treat', 'them'], ['you’re', 'lucky', 'i’m', 'manager'], ['wouldn’t', 'want', 'type', 'attitude', 'ball', 'club'], ['again', 'went', 'yankees', 'either', 'way', 'good-bye', 'red', 'sox'], ['everything', 'expensive', 'one', 'watching', 'game😑', 'returning'], ['still', 'love', 'red', 'sox', 'baseball', 'knowledge', 'town'], ['need', 'go', 'yankees', 'game', 'yankee', 'stadium'], ['get', 'educated.lol', 'long', 'time', 'sox', 'fan'], ['sad', 'write', 'review'], ['staff', 'inconsiderate', 'definitely', 'rude'], ['consideration', 'fan', 'base', 'lack', 'respect'], ['want', 'come', 'back', 'again'], ['multiple', 'poor', 'experiences', 'park', 'now'], ['disenchanted', 'fan'], ['get', 'yourselfs', 'boston'], ['friendly', 'confines'], ['fenway', 'park', 'beautiful', 'facility'], ['watched', '2', 'games', '17th', '18th', 'july', 'great'], ['people', 'boston', 'unbelievably', 'great'], ['tour', 'fenway', 'however', 'worth', '5', 'let', 'alone', '35'], ['took', 'us', 'let', 'us', 'stand', 'warning', 'track', '10', 'minutes', 'walked', 'us', 'seats', 'behind', 'home', 'plate', 'told', 'us', 'seats', 'oldest', 'building', '83', 'years', 'old', 'walked', 'got', 'sit', 'green', 'monster', '15', 'minutes'], ['information', 'facility', 'history', 'facility', '83', 'year', 'old', 'seats', 'would', 'recommend', 'wasting', 'money', 'tour'], ['stands', 'sell', 'hot', 'dogs', 'beer'], ['true', 'outrage', 'totally', 'tonedeaf', 'population', 'attends', 'games/wins', 'championships'], ['place', 'way', 'expensive', '12', 'bucks', 'hotdog', 'water', 'wow', 'disappointing', 'visit'], ['life', 'long', 'red', 'sox', 'fan', 'tried', 'take', 'tour', 'fenway'], ['also', 'active', 'leo', 'i’ve', 'never', 'denied', 'access', 'carrying'], ['never', 'got', 'pushed', 'away', 'yankee', 'stadium'], ['might', 'become', 'nyy', 'fan', '30', 'years', 'red', 'sox', 'fan', 'based', 'poorly', 'treated'], ['sad'], ['bad', 'could', 'visit', 'since', 'im', 'england', 'worst', 'baseball', 'venue', 'ever', 'too', 'city', 'sucks', 'people', 'even', 'more'], ['find', 'triple', 'team', 'go', 'watch', 'instead...or', 'flea', 'market'], ['excessive', 'noise', 'emanating', 'premise'], ['abutters', 'rowdy', 'litter'], ['awsome', 'watch', 'baseball', 'game', 'yesterday', 'mariners', 'seattle', 'aramark', 'joke', 'food', 'drinks', 'priced', 'staff', 'rude'], ['monopoly', 'ballpark', 'fu', 'attitude', 'toward', 'people....love', 'park', 'team'], ['bad', 'food', 'drink', 'vendors', 'ruined', 'chance', 'see', 'game', 'park', 'ballpark', 'sucks'], ['hard', 'see', 'field'], ['employees', 'rude', 'helpful', 'trying', 'find', 'seat'], ['wish', 'give', 'zero', 'stars', 'thanks', 'boston', 'health', 'commission', 'longer', 'smoke', 'designated', 'smoking', 'area', 'yawkey', 'way', 'whatever', 'name', 'liberal', 'moonbats', 'change', 'to'], ['people', 'smoke', 'rights'], ['trying', 'smoke', 'next', 'anybody', 'section', 'roped', 'years', 'smoke', 'free', 'area', 'absolutely', 'ridiculous'], ['near', 'anyone', 'anything', 'yet', 'since', 'boston', 'become', 'liberal', 'fascist', 'regime', 'longer', 'smoke', 'area'], ['love', 'fenway', 'everything', 'it', 'turned', 'liberal', 'concentration', 'camp', 'changing', 'street', 'names', 'smoking', 'area', 'taken', 'away'], ['bother', 'anyone', 'beaten', 'path', 'one', 'affected', 'smoke', 'area'], ['instead', 'fascist', 'walsh', 'regime', 'wants', 'control', 'aspects', \"everyone's\", 'life', 'thought', 'liberals', 'antifa', 'president', 'trump', 'fascist', 'think', 'again'], ['people', 'fascists', 'plain', 'simple', 'stands', 'everything', 'country', 'built', 'on'], ['ironic'], ['come', 'like', 'baseball', 'red', 'soxs'], ['otherwise', 'bother', 'bother', 'fenway'], ['fun'], ['tons', 'cash', 'pay', '9', 'dollar', 'beers', '50', 'dollar', 'parking'], ['welcome', 'boston', 'took', 'tour', 'dump'], ['side', 'note', 'yankees', 'greatest', 'sports', 'franchise', 'history', 'sport'], ['plus', 'side', 'since', 'tour', 'stadium', 'full', 'nomar', 'loving', 'red', 'sox', 'fans'], ['also', 'the', 'town', 'bad', 'movie'], ['red', 'sox', 'play', 'recommend', 'going', 'here'], ['world', 'series', 'police', 'everywhere', 'shut', 'streets'], ['place', 'reeks', 'tolitarianism'], ['rude', 'security', 'staff'], ['limited', 'parking', 'means', 'lot', 'walking', 'heat'], ['yet', 'get', 'upset', 'small', 'bottle', 'water', '', 'yell', 'confiscate', 'door'], ['rude', 'people'], ['yankees', 'better'], ['good', 'getting', 'around', 'ultra', 'rich', 'only', 'plus', 'team', 'awful', 'go', 'choice', 'terrible', 'experience', 'unprofessional', 'employees', 'stadium'], ['wrote', 'customer', 'service', 'receive', 'reply'], ['say', 'yankees', 'fan', 'lol', 'totally', 'me', 'thing', 'something', 'bad', 'always', 'happens', 'go', 'red', 'sox', 'games'], [\"i've\", 'since', 'decided', 'returning'], ['experience', 'exception', 'rule'], ['compass', 'square', 'made', 'game', 'human', 'sacrifices'], ['one', 'star'], ['fans', 'rude'], ['one', 'thing', 'worse', 'bad', 'team', 'fans', 'boo', 'uncontrollably', 'horribly', 'mean', 'people', 'wearing', 'shirts', 'teams'], ['stadium', 'lovely', 'people', 'make', 'terrible'], ['came', 'boston', 'meet', 'friends', 'decided', 'get', 'tickets', 'red', 'sox', 'game'], ['enjoying', 'it', 'people', 'next', 'us', 'starting', 'loudly', 'making', 'fun', 'friend', 'autism', 'specifically', 'autistic', 'tendencies', 'social', 'miscues', 'also', 'race'], ['realize', 'it', 'confront', \"he'd\", 'hear'], ['asked', 'sox', 'fans', 'side', 'do', 'contact', 'security', 'it'], ['said', 'this', 'boston', \"everyone's\", 'like', 'that'], ['one', 'cares'], ['that', \"i've\", 'rated', 'fenway', '1', 'star'], ['terribly', 'overpriced', 'judgmental', 'racist', 'fans', 'make', 'fun', 'mental', 'disabilities', 'fans', 'think', 'okay'], ['disappointed', 'young', 'people', 'fenway', 'stand', 'remove', 'hats', 'national', 'anthem'], ['disgrace', 'country', 'ashamed'], ['new', 'england', 'patriots', 'cheaters', 'red', 'sox', 'put', 'cheating', 'peices', 'bats', 'like', 'patriots', 'cheat', 'park', 'slides', 'swings'], ['dog', 'forcibly', 'removed', 'less', '1', 'min', 'playing', 'field'], ['spot', 'returning'], ['employees', 'take', 'personal', 'private', 'property', 'including', 'electronics', 'medicine'], ['never', 'going', 'back', 'here'], ['people', 'use', 'place', 'illegally', 'park', 'like', 'crazy', 'fenway'], ['bunch', 'drunk', 'idiots', 'hit', 'cars'], ['seats', 'small', 'nobody', 'said', 'send', \"can't\", 'see', 'game', 'would', 'nice', 'could', 'see', 'board', 'replays', 'board', 'overall', 'bad', 'experience', 'middle', 'class', 'tour', 'fenway', 'park', 'excellent'], ['security', 'guards', 'employees', 'extremely', 'rude'], ['employee', 'coming', 'around', 'drinks', 'never', 'stopped', '4', 'asked', 'drinks'], ['screw', 'red', 'sox', 'racist', 'management', 'tear', 'down'], ['worst', 'ballpark', 'watch', 'game', 'majors'], ['grandstand', 'seats', 'face', 'outfield', 'rather', 'home', 'plate', 'plus', \"they're\", 'tighter', 'seats', 'ryainair'], ['beer', 'prices', 'stupid'], ['yikes'], ['fine', 'stadium'], ['woof', 'team', 'field', 'stinks', 'disappointed', 'obstructed', 'seats', 'water', 'dripping', 'above'], ['lines', 'concessions', 'longest', \"we'd\", 'ever', 'seen'], ['begin', 'overpriced', 'uncomfortable', 'seats', 'shall', 'go', 'didn’t', 'win', 'dance', 'song', 'tear', 'down'], ['ever', 'go', 'camden', 'yards', 'see', 'new', 'stadium', 'old', 'feel'], ['fenway', 'park', 'ugly', 'stadium', 'plus', 'got', 'nasty', 'food', 'don’t', 'like', 'green', 'monster', 'don’t', 'got', 'parking', 'red', 'sox', 'must', 'die', 'throw', 'pit', 'new', 'manager', 'mohammed', 'gone', 'please', 'someday', 'get', 'human-size', 'seats', 'fan', 'big', 'cities', 'sports', 'drinks', 'crazy', 'expensive', 'sucks', 'like', 'everyone', 'boston', 'could', 'give', 'stars', 'would']]\n"
          ],
          "name": "stdout"
        }
      ]
    },
    {
      "cell_type": "code",
      "metadata": {
        "id": "l_u5suxIRiAo"
      },
      "source": [
        "# train_data"
      ],
      "execution_count": null,
      "outputs": []
    },
    {
      "cell_type": "code",
      "metadata": {
        "id": "oBjXa2ICQqVJ"
      },
      "source": [
        "from gensim.models import Word2Vec"
      ],
      "execution_count": null,
      "outputs": []
    },
    {
      "cell_type": "code",
      "metadata": {
        "id": "n_Ckq6gXQxUx"
      },
      "source": [
        "model = Word2Vec(train_data, size=10, min_count=1, sg=1, workers=1, seed=0)"
      ],
      "execution_count": null,
      "outputs": []
    },
    {
      "cell_type": "code",
      "metadata": {
        "id": "5LhCplDGST-R",
        "colab": {
          "base_uri": "https://localhost:8080/"
        },
        "outputId": "3c5cb4ca-f686-49aa-f245-9f01356e5daf"
      },
      "source": [
        "model.wv.most_similar('rude', topn=10)"
      ],
      "execution_count": null,
      "outputs": [
        {
          "output_type": "execute_result",
          "data": {
            "text/plain": [
              "[('longest', 0.8618735074996948),\n",
              " ('concession', 0.8150543570518494),\n",
              " ('bucks', 0.8142864108085632),\n",
              " ('lost', 0.8129188418388367),\n",
              " ('stadium', 0.7971088290214539),\n",
              " ('money', 0.7626392841339111),\n",
              " ('racist', 0.7621638178825378),\n",
              " ('flea', 0.7572372555732727),\n",
              " ('park', 0.7563307881355286),\n",
              " ('mr', 0.7376571893692017)]"
            ]
          },
          "metadata": {
            "tags": []
          },
          "execution_count": 91
        }
      ]
    }
  ]
}