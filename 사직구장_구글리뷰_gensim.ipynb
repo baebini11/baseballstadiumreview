{
  "nbformat": 4,
  "nbformat_minor": 0,
  "metadata": {
    "colab": {
      "provenance": []
    },
    "kernelspec": {
      "name": "python3",
      "display_name": "Python 3"
    },
    "language_info": {
      "name": "python"
    }
  },
  "cells": [
    {
      "cell_type": "markdown",
      "metadata": {
        "id": "rYodZe9OnBq4"
      },
      "source": [
        "## **1. gensim을 이용한 한글 구글리뷰 분석"
      ]
    },
    {
      "cell_type": "code",
      "metadata": {
        "id": "6RWuntygt3MD"
      },
      "source": [
        "# KoNLPy 설치\n",
        "!pip install konlpy"
      ],
      "execution_count": null,
      "outputs": []
    },
    {
      "cell_type": "code",
      "metadata": {
        "id": "emzFs584nBOR"
      },
      "source": [
        "from konlpy.tag import Kkma"
      ],
      "execution_count": null,
      "outputs": []
    },
    {
      "cell_type": "code",
      "metadata": {
        "id": "l4j9e2BCokWS"
      },
      "source": [
        "with open('/content/사직 야구장 높은평점순.txt') as f:\n",
        "  text = f.read()\n",
        "text"
      ],
      "execution_count": null,
      "outputs": []
    },
    {
      "cell_type": "code",
      "metadata": {
        "id": "WtgfqNpDor9J"
      },
      "source": [
        "# 문장 단위로 끊음\n",
        "ma = Kkma()\n",
        "sentences = ma.sentences(text)"
      ],
      "execution_count": null,
      "outputs": []
    },
    {
      "cell_type": "code",
      "metadata": {
        "id": "XDa4AmJyo-cJ"
      },
      "source": [
        "print(sentences)"
      ],
      "execution_count": null,
      "outputs": []
    },
    {
      "cell_type": "code",
      "metadata": {
        "id": "WNYTbOCjuB3C"
      },
      "source": [
        "# 각 문장에서 명사들만 취득\n",
        "word_list = []\n",
        "for sen in sentences:\n",
        "  word_list.append(ma.nouns(sen))"
      ],
      "execution_count": null,
      "outputs": []
    },
    {
      "cell_type": "code",
      "metadata": {
        "id": "EHfPUxiYuO8C"
      },
      "source": [
        "print(word_list)"
      ],
      "execution_count": null,
      "outputs": []
    },
    {
      "cell_type": "markdown",
      "metadata": {
        "id": "Ql443wrtr4qq"
      },
      "source": [
        "## **2. gensim을 이용하여 비슷한 단어(context word) 발견**\n",
        "\n",
        "https://radimrehurek.com/gensim/models/word2vec.html"
      ]
    },
    {
      "cell_type": "code",
      "metadata": {
        "id": "6Wq2omKJlSZr"
      },
      "source": [
        "from gensim.models import Word2Vec"
      ],
      "execution_count": null,
      "outputs": []
    },
    {
      "cell_type": "code",
      "metadata": {
        "id": "rOqJZEdAvGek"
      },
      "source": [
        "model = Word2Vec(word_list, size=10, min_count=1, sg=1, workers=1)"
      ],
      "execution_count": null,
      "outputs": []
    },
    {
      "cell_type": "code",
      "metadata": {
        "id": "qzaDA4ypwqQc"
      },
      "source": [
        "# 고유 단어 목록 확인\n",
        "vocab = model.wv.vocab\n",
        "vocab"
      ],
      "execution_count": null,
      "outputs": []
    },
    {
      "cell_type": "code",
      "metadata": {
        "id": "51zJ_9Kr3c4U"
      },
      "source": [
        "len(vocab)"
      ],
      "execution_count": null,
      "outputs": []
    },
    {
      "cell_type": "code",
      "metadata": {
        "id": "fM6b6p_dw0yz"
      },
      "source": [
        "model.wv['최고']"
      ],
      "execution_count": null,
      "outputs": []
    },
    {
      "cell_type": "code",
      "metadata": {
        "id": "iDpXTnHWxHqM"
      },
      "source": [
        "model.wv.most_similar('최고', topn=6)"
      ],
      "execution_count": null,
      "outputs": []
    }
  ]
}